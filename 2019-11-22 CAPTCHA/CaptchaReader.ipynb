{
 "cells": [
  {
   "cell_type": "markdown",
   "metadata": {},
   "source": [
    "**Grupo 2:**\n",
    "- Esteban Daniel Pereira Nuñez\n",
    "- Maria Bernarda Serrano Larrea\n",
    "- Damaris Raquel Terrazas Teran\n",
    "- Oscar Enrique Ibañez Siñani\n",
    "\n",
    "**TRABAJO REDES NEURONALES, Asignatura: Mineria de datos**\n",
    "\n",
    "Librerias a instalar:\n",
    "- pip install Pillow\n",
    "- pip install scikit-image\n",
    "- pip install scikit-learn\n",
    "- pip install pybrain\n",
    "- pip install structure\n",
    "\n",
    "Usar PyBrain de Github https://github.com/pybrain/pybrain"
   ]
  },
  {
   "cell_type": "code",
   "execution_count": 1,
   "metadata": {},
   "outputs": [],
   "source": [
    "# Drawing basic CAPTCHAs\n",
    "\n",
    "import numpy as np\n",
    "from PIL import Image, ImageDraw, ImageFont\n",
    "from skimage import transform as tf"
   ]
  },
  {
   "cell_type": "code",
   "execution_count": 2,
   "metadata": {},
   "outputs": [],
   "source": [
    "#def create_captcha(text, shear=0, size=(100, 24)):\n",
    "def create_captcha(text, shear=0, size=(100, 30)):\n",
    "    im = Image.new(\"L\", size, \"black\")\n",
    "    draw = ImageDraw.Draw(im)\n",
    "    \n",
    "    font = ImageFont.truetype(r\"FiraCode-Regular.otf\", 22)\n",
    "    draw.text((2, 2), text, fill=1, font=font)\n",
    "    \n",
    "    image = np.array(im)\n",
    "    \n",
    "    affine_tf = tf.AffineTransform(shear=shear)\n",
    "    image = tf.warp(image, affine_tf)\n",
    "    return image / image.max()"
   ]
  },
  {
   "cell_type": "code",
   "execution_count": 3,
   "metadata": {},
   "outputs": [
    {
     "data": {
      "text/plain": [
       "<matplotlib.image.AxesImage at 0x2277fa99408>"
      ]
     },
     "execution_count": 3,
     "metadata": {},
     "output_type": "execute_result"
    },
    {
     "data": {
      "image/png": "[encoded data removed]",
      "text/plain": [
       "<Figure size 432x288 with 1 Axes>"
      ]
     },
     "metadata": {
      "needs_background": "light"
     },
     "output_type": "display_data"
    }
   ],
   "source": [
    "%matplotlib inline\n",
    "from matplotlib import pyplot as plt\n",
    "\n",
    "image = create_captcha(\"GENE\", shear=0.5)\n",
    "plt.imshow(image, cmap='Greys')"
   ]
  },
  {
   "cell_type": "code",
   "execution_count": 4,
   "metadata": {},
   "outputs": [],
   "source": [
    "# Splitting the image into individual letters\n",
    "\n",
    "from skimage.measure import label, regionprops\n",
    "\n",
    "def segment_image(image):\n",
    "    labeled_image = label(image > 0)\n",
    "    subimages = []\n",
    "    for region in regionprops(labeled_image):\n",
    "        start_x, start_y, end_x, end_y = region.bbox\n",
    "        subimages.append(image[start_x:end_x,start_y:end_y])\n",
    "    if len(subimages) == 0:\n",
    "        return [image,]\n",
    "    return subimages"
   ]
  },
  {
   "cell_type": "code",
   "execution_count": 5,
   "metadata": {},
   "outputs": [
    {
     "data": {
      "image/png": "[encoded data removed]",
      "text/plain": [
       "<Figure size 720x216 with 4 Axes>"
      ]
     },
     "metadata": {
      "needs_background": "light"
     },
     "output_type": "display_data"
    }
   ],
   "source": [
    "subimages = segment_image(image)\n",
    "\n",
    "f, axes = plt.subplots(1, len(subimages), figsize=(10, 3))\n",
    "for i in range(len(subimages)):\n",
    "    axes[i].imshow(subimages[i], cmap=\"gray\")"
   ]
  },
  {
   "cell_type": "code",
   "execution_count": 6,
   "metadata": {},
   "outputs": [],
   "source": [
    "# Creating a training dataset\n",
    "\n",
    "from sklearn.utils import check_random_state\n",
    "random_state = check_random_state(14)\n",
    "letters = list(\"ABCDEFGHIJKLMNOPQRSTUVWXYZ\")\n",
    "shear_values = np.arange(0, 0.5, 0.05)"
   ]
  },
  {
   "cell_type": "code",
   "execution_count": 7,
   "metadata": {},
   "outputs": [],
   "source": [
    "def generate_sample(random_state=None):\n",
    "    random_state = check_random_state(random_state)\n",
    "    letter = random_state.choice(letters)\n",
    "    shear = random_state.choice(shear_values)\n",
    "    return create_captcha(letter, shear=shear, size=(20, 20)),letters.index(letter)"
   ]
  },
  {
   "cell_type": "code",
   "execution_count": 8,
   "metadata": {},
   "outputs": [
    {
     "name": "stdout",
     "output_type": "stream",
     "text": [
      "The target for this image is: 11\n"
     ]
    },
    {
     "name": "stderr",
     "output_type": "stream",
     "text": [
      "c:\\program files\\python37\\lib\\site-packages\\sklearn\\preprocessing\\_encoders.py:415: FutureWarning: The handling of integer data will change in version 0.22. Currently, the categories are determined based on the range [0, max(values)], while in the future they will be determined based on the unique values.\n",
      "If you want the future behaviour and silence this warning, you can specify \"categories='auto'\".\n",
      "In case you used a LabelEncoder before this OneHotEncoder to convert the categories to integers, then you can now use the OneHotEncoder directly.\n",
      "  warnings.warn(msg, FutureWarning)\n"
     ]
    },
    {
     "data": {
      "image/png": "[encoded data removed]",
      "text/plain": [
       "<Figure size 432x288 with 1 Axes>"
      ]
     },
     "metadata": {
      "needs_background": "light"
     },
     "output_type": "display_data"
    }
   ],
   "source": [
    "image, target = generate_sample(random_state)\n",
    "plt.imshow(image, cmap=\"Greys\")\n",
    "print(\"The target for this image is: {0}\".format(target))\n",
    "\n",
    "dataset, targets = zip(*(generate_sample(random_state) for i in\n",
    "range(3000)))\n",
    "dataset = np.array(dataset, dtype='float')\n",
    "targets = np.array(targets)\n",
    "\n",
    "from sklearn.preprocessing import OneHotEncoder\n",
    "onehot = OneHotEncoder()\n",
    "y = onehot.fit_transform(targets.reshape(targets.shape[0],1))\n",
    "\n",
    "y = y.todense()"
   ]
  },
  {
   "cell_type": "code",
   "execution_count": 9,
   "metadata": {},
   "outputs": [],
   "source": [
    "# Adjusting our training dataset to our methodology\n",
    "\n",
    "from skimage.transform import resize\n",
    "dataset = np.array([resize(segment_image(sample)[0], (20, 20)) for sample in dataset])\n",
    "X = dataset.reshape((dataset.shape[0], dataset.shape[1] * dataset.shape[2]))\n",
    "\n",
    "#from sklearn.cross_validation import train_test_split\n",
    "from sklearn.model_selection import train_test_split\n",
    "X_train, X_test, y_train, y_test = train_test_split(X, y, train_size=0.9)"
   ]
  },
  {
   "cell_type": "code",
   "execution_count": 10,
   "metadata": {},
   "outputs": [],
   "source": [
    "# Training and classifying\n",
    "\n",
    "from pybrain.datasets import SupervisedDataSet\n",
    "\n",
    "training = SupervisedDataSet(X.shape[1], y.shape[1])\n",
    "for i in range(X_train.shape[0]):\n",
    "    training.addSample(X_train[i], y_train[i])\n",
    "    \n",
    "testing = SupervisedDataSet(X.shape[1], y.shape[1])\n",
    "for i in range(X_test.shape[0]):\n",
    "    testing.addSample(X_test[i], y_test[i])\n",
    "    \n",
    "from pybrain.tools.shortcuts import buildNetwork\n",
    "net = buildNetwork(X.shape[1], 100, y.shape[1], bias=True)"
   ]
  },
  {
   "cell_type": "code",
   "execution_count": 12,
   "metadata": {},
   "outputs": [
    {
     "name": "stdout",
     "output_type": "stream",
     "text": [
      "F-score: 0.86\n"
     ]
    },
    {
     "name": "stderr",
     "output_type": "stream",
     "text": [
      "c:\\program files\\python37\\lib\\site-packages\\sklearn\\metrics\\classification.py:1439: UndefinedMetricWarning: F-score is ill-defined and being set to 0.0 in labels with no true samples.\n",
      "  'recall', 'true', average, warn_for)\n"
     ]
    }
   ],
   "source": [
    "# Back propagation\n",
    "\n",
    "from pybrain.supervised.trainers import BackpropTrainer\n",
    "trainer = BackpropTrainer(net, training, learningrate=0.01,\n",
    "weightdecay=0.01)\n",
    "\n",
    "trainer.trainEpochs(epochs=20)\n",
    "\n",
    "predictions = trainer.testOnClassData(dataset=testing)\n",
    "\n",
    "from sklearn.metrics import f1_score\n",
    "print(\"F-score: {0:.2f}\".format(f1_score(predictions, y_test.argmax(axis=1),average='macro' )))"
   ]
  },
  {
   "cell_type": "code",
   "execution_count": 13,
   "metadata": {},
   "outputs": [],
   "source": [
    "# Predicting words\n",
    "\n",
    "def predict_captcha(captcha_image, neural_network):\n",
    "    subimages = segment_image(captcha_image)\n",
    "    predicted_word = \"\"\n",
    "    for subimage in subimages:\n",
    "        subimage = resize(subimage, (20, 20))\n",
    "        outputs = net.activate(subimage.flatten())\n",
    "        prediction = np.argmax(outputs)\n",
    "        predicted_word += letters[prediction]\n",
    "    return predicted_word"
   ]
  },
  {
   "cell_type": "code",
   "execution_count": 14,
   "metadata": {},
   "outputs": [
    {
     "name": "stdout",
     "output_type": "stream",
     "text": [
      "ANNN\n"
     ]
    }
   ],
   "source": [
    "word = \"GENE\"\n",
    "captcha = create_captcha(word, shear=0.2)\n",
    "print(predict_captcha(captcha, net))"
   ]
  },
  {
   "cell_type": "code",
   "execution_count": 15,
   "metadata": {},
   "outputs": [],
   "source": [
    "def test_prediction(word, net, shear=0.2):\n",
    "    captcha = create_captcha(word, shear=shear)\n",
    "    prediction = predict_captcha(captcha, net)\n",
    "    prediction = prediction[:4]\n",
    "    return word == prediction, word, prediction"
   ]
  },
  {
   "cell_type": "code",
   "execution_count": 18,
   "metadata": {},
   "outputs": [
    {
     "name": "stdout",
     "output_type": "stream",
     "text": [
      "Number correct is 0\n",
      "Number incorrect is 1\n"
     ]
    }
   ],
   "source": [
    "from nltk.corpus import words\n",
    "valid_words = [word.upper() for word in words.words() if len(word) == 4]\n",
    "\n",
    "num_correct = 0\n",
    "num_incorrect = 0\n",
    "for word in valid_words:\n",
    "    correct, word, prediction = test_prediction(word, net, shear=0.2)\n",
    "if correct:\n",
    "    num_correct += 1\n",
    "else:\n",
    "    num_incorrect += 1\n",
    "print(\"Number correct is {0}\".format(num_correct))\n",
    "print(\"Number incorrect is {0}\".format(num_incorrect))"
   ]
  },
  {
   "cell_type": "code",
   "execution_count": 19,
   "metadata": {},
   "outputs": [
    {
     "data": {
      "image/png": "[encoded data removed]",
      "text/plain": [
       "<Figure size 720x720 with 1 Axes>"
      ]
     },
     "metadata": {
      "needs_background": "light"
     },
     "output_type": "display_data"
    }
   ],
   "source": [
    "# Ranking mechanisms for words\n",
    "\n",
    "from sklearn.metrics import confusion_matrix\n",
    "cm = confusion_matrix(np.argmax(y_test, axis=1), predictions)\n",
    "\n",
    "plt.figure(figsize=(10, 10))\n",
    "plt.imshow(cm)\n",
    "\n",
    "tick_marks = np.arange(len(letters))\n",
    "plt.xticks(tick_marks, letters)\n",
    "plt.yticks(tick_marks, letters)\n",
    "plt.ylabel('Actual')\n",
    "plt.xlabel('Predicted')\n",
    "plt.show()"
   ]
  },
  {
   "cell_type": "code",
   "execution_count": 20,
   "metadata": {},
   "outputs": [
    {
     "name": "stdout",
     "output_type": "stream",
     "text": [
      "The number of steps needed is: 1\n"
     ]
    }
   ],
   "source": [
    "from nltk.metrics import edit_distance\n",
    "steps = edit_distance(\"STEP\", \"STOP\")\n",
    "print(\"The number of steps needed is: {0}\".format(steps))"
   ]
  },
  {
   "cell_type": "code",
   "execution_count": 21,
   "metadata": {},
   "outputs": [],
   "source": [
    "def compute_distance(prediction, word):\n",
    "    return len(prediction) - sum(prediction[i] == word[i] for i in range(len(prediction)))"
   ]
  },
  {
   "cell_type": "code",
   "execution_count": 22,
   "metadata": {},
   "outputs": [],
   "source": [
    "# Putting it all together\n",
    "\n",
    "from operator import itemgetter\n",
    "def improved_prediction(word, net, dictionary, shear=0.2):\n",
    "    captcha = create_captcha(word, shear=shear)\n",
    "    prediction = predict_captcha(captcha, net)\n",
    "    prediction = prediction[:4]\n",
    "    \n",
    "    if prediction not in dictionary:\n",
    "        distances = sorted([(word, compute_distance(prediction, word)) for word in dictionary], key=itemgetter(1))\n",
    "        best_word = distances[0]\n",
    "        prediction = best_word[0]\n",
    "    \n",
    "    return word == prediction, word, prediction"
   ]
  },
  {
   "cell_type": "code",
   "execution_count": 23,
   "metadata": {},
   "outputs": [
    {
     "name": "stdout",
     "output_type": "stream",
     "text": [
      "Number correct is 220\n",
      "Number incorrect is 5293\n"
     ]
    }
   ],
   "source": [
    "num_correct = 0\n",
    "num_incorrect = 0\n",
    "for word in valid_words:\n",
    "    correct, word, prediction = improved_prediction(word, net, valid_words, shear=0.2)\n",
    "    if correct:\n",
    "        num_correct += 1\n",
    "    else:\n",
    "        num_incorrect += 1\n",
    "print(\"Number correct is {0}\".format(num_correct))\n",
    "print(\"Number incorrect is {0}\".format(num_incorrect))"
   ]
  },
  {
   "cell_type": "code",
   "execution_count": null,
   "metadata": {},
   "outputs": [],
   "source": []
  }
 ],
 "metadata": {
  "kernelspec": {
   "display_name": "Python 3",
   "language": "python",
   "name": "python3"
  },
  "language_info": {
   "codemirror_mode": {
    "name": "ipython",
    "version": 3
   },
   "file_extension": ".py",
   "mimetype": "text/x-python",
   "name": "python",
   "nbconvert_exporter": "python",
   "pygments_lexer": "ipython3",
   "version": "3.7.4"
  }
 },
 "nbformat": 4,
 "nbformat_minor": 2
}
