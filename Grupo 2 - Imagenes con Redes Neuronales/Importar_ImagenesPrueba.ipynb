{
 "cells": [
  {
   "cell_type": "markdown",
   "execution_count": null,
   "metadata": {},
   "outputs": [],
   "source": [
    "Identificacion de Imagenes con Redes Neuronales\n",
    "\n",
    "Grupo 2:\n",
    "\n",
    "- Esteban Daniel Pereira Nuñez\n",
    "- Maria Bernarda Serrano Larrea\n",
    "- Damaris Raquel Terrazas Teran\n",
    "- Oscar Enrique Ibañez Siñani\n",
    "\n",
    "Librerias\n",
    "- pip install opencv-contrib-python\n",
    "- pip install tensorflow (actualmente se requiere Python 3.7)\n",
    "- pip install matplotlib\n",
    "- pip install tqdm\n",
    "- pip install numpy\n",
    "- pip install pickle"
   ]
  },
  {
   "cell_type": "code",
   "execution_count": 1,
   "metadata": {},
   "outputs": [],
   "source": [
    "import numpy as np\n",
    "import matplotlib.pyplot as plt\n",
    "import os\n",
    "import cv2\n",
    "from tqdm import tqdm"
   ]
  },
  {
   "cell_type": "code",
   "execution_count": 2,
   "metadata": {},
   "outputs": [
    {
     "name": "stderr",
     "output_type": "stream",
     "text": "100%|█████████████████████████████████████████████████████████████████| 6/6 [00:00<00:00, 150.04it/s]\n100%|█████████████████████████████████████████████████████████████████| 6/6 [00:00<00:00, 187.55it/s]12\n\n"
    }
   ],
   "source": [
    "DATADIR = \"testData\"\n",
    "\n",
    "CATEGORIES = [\"Dog\", \"Cat\"]\n",
    "\n",
    "IMG_SIZE = 100\n",
    "\n",
    "training_data = []\n",
    "\n",
    "def create_training_data():\n",
    "    for category in CATEGORIES:\n",
    "\n",
    "        path = os.path.join(DATADIR,category) \n",
    "        class_num = CATEGORIES.index(category)  # clasificamos los resultados (un 0 o un 1). 0=dog 1=cat\n",
    "\n",
    "        for img in tqdm(os.listdir(path)):  # pasamos por cada imagen\n",
    "            try:\n",
    "                img_array = cv2.imread(os.path.join(path,img) ,cv2.IMREAD_GRAYSCALE)  # convertimos las imagenes en arrays\n",
    "                new_array = cv2.resize(img_array, (IMG_SIZE, IMG_SIZE))  # ajustamos el tamaño de las imagenes\n",
    "                training_data.append([new_array, class_num])  # añadimos la imagen a la lista de datos de muestra\n",
    "            except Exception as e: \n",
    "                pass\n",
    "\n",
    "create_training_data()\n",
    "\n",
    "print(len(training_data))"
   ]
  },
  {
   "cell_type": "code",
   "execution_count": 3,
   "metadata": {},
   "outputs": [
    {
     "name": "stdout",
     "output_type": "stream",
     "text": "0\n0\n1\n0\n1\n1\n0\n1\n0\n1\n"
    }
   ],
   "source": [
    "import random\n",
    "\n",
    "random.shuffle(training_data)\n",
    "\n",
    "for sample in training_data[:10]:\n",
    "    print(sample[1])"
   ]
  },
  {
   "cell_type": "code",
   "execution_count": 4,
   "metadata": {},
   "outputs": [
    {
     "name": "stdout",
     "output_type": "stream",
     "text": "[[[[127]\n   [102]\n   [130]\n   ...\n   [172]\n   [171]\n   [183]]\n\n  [[117]\n   [123]\n   [160]\n   ...\n   [155]\n   [166]\n   [167]]\n\n  [[106]\n   [132]\n   [151]\n   ...\n   [117]\n   [118]\n   [139]]\n\n  ...\n\n  [[166]\n   [ 88]\n   [150]\n   ...\n   [115]\n   [107]\n   [117]]\n\n  [[111]\n   [175]\n   [145]\n   ...\n   [103]\n   [105]\n   [ 98]]\n\n  [[173]\n   [134]\n   [156]\n   ...\n   [141]\n   [111]\n   [ 93]]]]\n"
    }
   ],
   "source": [
    "X = []\n",
    "y = []\n",
    "\n",
    "for features,label in training_data:\n",
    "    X.append(features)\n",
    "    y.append(label)\n",
    "\n",
    "print(X[0].reshape(-1, IMG_SIZE, IMG_SIZE, 1))\n",
    "\n",
    "X = np.array(X).reshape(-1, IMG_SIZE, IMG_SIZE, 1)"
   ]
  },
  {
   "cell_type": "code",
   "execution_count": 5,
   "metadata": {},
   "outputs": [],
   "source": [
    "import pickle\n",
    "\n",
    "pickle_out = open(\"test_X.pickle\",\"wb\")\n",
    "pickle.dump(X, pickle_out)\n",
    "pickle_out.close()\n",
    "\n",
    "pickle_out = open(\"test_y.pickle\",\"wb\")\n",
    "pickle.dump(y, pickle_out)\n",
    "pickle_out.close()\n",
    "\n",
    "pickle_in = open(\"test_X.pickle\",\"rb\")\n",
    "X = pickle.load(pickle_in)\n",
    "\n",
    "pickle_in = open(\"test_y.pickle\",\"rb\")\n",
    "y = pickle.load(pickle_in)"
   ]
  },
  {
   "cell_type": "code",
   "metadata": {},
   "outputs": [],
   "source": []
  }
 ],
 "metadata": {
  "kernelspec": {
   "display_name": "Python 3",
   "language": "python",
   "name": "python3"
  },
  "language_info": {
   "codemirror_mode": {
    "name": "ipython",
    "version": 3
   },
   "file_extension": ".py",
   "mimetype": "text/x-python",
   "name": "python",
   "nbconvert_exporter": "python",
   "pygments_lexer": "ipython3",
   "version": "3.7.4"
  }
 },
 "nbformat": 4,
 "nbformat_minor": 2
}