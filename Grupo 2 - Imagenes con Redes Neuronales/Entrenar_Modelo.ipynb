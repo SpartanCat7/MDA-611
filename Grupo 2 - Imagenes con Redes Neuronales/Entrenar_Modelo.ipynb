{
 "cells": [
  {
   "cell_type": "markdown",
   "execution_count": null,
   "metadata": {},
   "outputs": [],
   "source": [
    "Identificacion de Imagenes con Redes Neuronales\n",
    "\n",
    "Grupo 2:\n",
    "\n",
    "- Esteban Daniel Pereira Nuñez\n",
    "- Maria Bernarda Serrano Larrea\n",
    "- Damaris Raquel Terrazas Teran\n",
    "- Oscar Enrique Ibañez Siñani\n",
    "\n",
    "Librerias\n",
    "- pip install opencv-contrib-python\n",
    "- pip install tensorflow (actualmente se requiere Python 3.7)\n",
    "- pip install matplotlib\n",
    "- pip install tqdm\n",
    "- pip install numpy\n",
    "- pip install pickle"
   ]
  },
  {
   "cell_type": "code",
   "execution_count": 1,
   "metadata": {},
   "outputs": [],
   "source": [
    "import tensorflow as tf\n",
    "from tensorflow.keras.models import Sequential\n",
    "from tensorflow.keras.layers import Dense, Dropout, Activation, Flatten, Conv2D, MaxPooling2D\n",
    "import pickle\n",
    "import numpy as np"
   ]
  },
  {
   "cell_type": "code",
   "execution_count": 2,
   "metadata": {},
   "outputs": [
    {
     "name": "stdout",
     "output_type": "stream",
     "text": "(208, 100, 100, 1)\n"
    }
   ],
   "source": [
    "X = pickle.load(open(\"X.pickle\", \"rb\"))\n",
    "Y = pickle.load(open(\"y.pickle\", \"rb\"))\n",
    "\n",
    "X = np.asarray(X)\n",
    "Y = np.asarray(Y)\n",
    "\n",
    "print(X.shape)\n",
    "X = X/255.0"
   ]
  },
  {
   "cell_type": "code",
   "execution_count": 3,
   "metadata": {},
   "outputs": [],
   "source": [
    "model = Sequential()\n",
    "model.add(Conv2D(64,(3,3),input_shape = X.shape[1:]))\n",
    "model.add(Activation(\"relu\"))\n",
    "model.add(MaxPooling2D(pool_size=(2,2)))\n",
    "\n",
    "model.add(Conv2D(64,(3,3)))\n",
    "model.add(Activation(\"relu\"))\n",
    "model.add(MaxPooling2D(pool_size=(2,2)))\n",
    "\n",
    "model.add(Flatten())\n",
    "model.add(Dense(64))\n",
    "\n",
    "model.add(Dense(1))\n",
    "model.add(Activation('sigmoid'))\n"
   ]
  },
  {
   "cell_type": "code",
   "execution_count": 4,
   "metadata": {},
   "outputs": [],
   "source": [
    "model.compile(loss=\"binary_crossentropy\",optimizer=\"adam\",metrics=['accuracy'])"
   ]
  },
  {
   "cell_type": "code",
   "execution_count": 5,
   "metadata": {},
   "outputs": [
    {
     "name": "stdout",
     "output_type": "stream",
     "text": "Train on 187 samples, validate on 21 samples\nEpoch 1/10\n187/187 [==============================] - 12s 63ms/sample - loss: 1.8211 - accuracy: 0.5187 - val_loss: 0.9794 - val_accuracy: 0.4286\nEpoch 2/10\n187/187 [==============================] - 8s 45ms/sample - loss: 0.7208 - accuracy: 0.5775 - val_loss: 0.6975 - val_accuracy: 0.4762\nEpoch 3/10\n187/187 [==============================] - 8s 45ms/sample - loss: 0.6680 - accuracy: 0.6631 - val_loss: 0.7121 - val_accuracy: 0.4762\nEpoch 4/10\n187/187 [==============================] - 8s 45ms/sample - loss: 0.6227 - accuracy: 0.6845 - val_loss: 0.7464 - val_accuracy: 0.4762\nEpoch 5/10\n187/187 [==============================] - 8s 44ms/sample - loss: 0.5590 - accuracy: 0.7594 - val_loss: 0.9583 - val_accuracy: 0.4286\nEpoch 6/10\n187/187 [==============================] - 8s 45ms/sample - loss: 0.4894 - accuracy: 0.7807 - val_loss: 0.8132 - val_accuracy: 0.6190\nEpoch 7/10\n187/187 [==============================] - 8s 45ms/sample - loss: 0.4319 - accuracy: 0.8449 - val_loss: 0.8880 - val_accuracy: 0.3810\nEpoch 8/10\n187/187 [==============================] - 8s 44ms/sample - loss: 0.3426 - accuracy: 0.8930 - val_loss: 0.9575 - val_accuracy: 0.3810\nEpoch 9/10\n187/187 [==============================] - 8s 43ms/sample - loss: 0.2664 - accuracy: 0.9251 - val_loss: 1.0766 - val_accuracy: 0.4286\nEpoch 10/10\n187/187 [==============================] - 9s 46ms/sample - loss: 0.1846 - accuracy: 0.9947 - val_loss: 1.2312 - val_accuracy: 0.6190\n"
    },
    {
     "data": {
      "text/plain": "<tensorflow.python.keras.callbacks.History at 0x26c44487108>"
     },
     "execution_count": 5,
     "metadata": {},
     "output_type": "execute_result"
    }
   ],
   "source": [
    "model.fit(X, Y, batch_size=32, epochs=10, validation_split=0.1)"
   ]
  },
  {
   "cell_type": "code",
   "execution_count": 6,
   "metadata": {},
   "outputs": [
    {
     "name": "stdout",
     "output_type": "stream",
     "text": "(12, 100, 100, 1)\n"
    }
   ],
   "source": [
    "test_X = pickle.load(open(\"test_X.pickle\", \"rb\"))\n",
    "test_Y = pickle.load(open(\"test_y.pickle\", \"rb\"))\n",
    "\n",
    "test_X = np.asarray(test_X)\n",
    "test_Y = np.asarray(test_Y)\n",
    "\n",
    "print(test_X.shape)\n",
    "\n",
    "test_X = test_X/255.0"
   ]
  },
  {
   "cell_type": "code",
   "execution_count": 19,
   "metadata": {},
   "outputs": [
    {
     "name": "stdout",
     "output_type": "stream",
     "text": "(12, 1)\n"
    }
   ],
   "source": [
    "predictions = model.predict(test_X)\n",
    "print(predictions.shape)"
   ]
  },
  {
   "cell_type": "code",
   "execution_count": 20,
   "metadata": {},
   "outputs": [
    {
     "name": "stdout",
     "output_type": "stream",
     "text": "[0.8208444] - [1.] - 0\n[0.5770375] - [1.] - 0\n[0.86652386] - [1.] - 1\n[0.830427] - [1.] - 0\n[0.00486347] - [0.] - 1\n[0.95809627] - [1.] - 1\n[0.47095948] - [0.] - 0\n[0.9937744] - [1.] - 1\n[0.12883513] - [0.] - 0\n[0.9783564] - [1.] - 1\n[0.98789364] - [1.] - 1\n[0.8862358] - [1.] - 0\n"
    }
   ],
   "source": [
    "\n",
    "for index,prediccion in enumerate(predictions):\n",
    "    print(prediccion, end=\" - \")\n",
    "    print(np.round(prediccion), end=\" - \")\n",
    "    print(test_Y[index])"
   ]
  },
  {
   "cell_type": "code",
   "metadata": {},
   "outputs": [],
   "source": []
  }
 ],
 "metadata": {
  "kernelspec": {
   "display_name": "Python 3",
   "language": "python",
   "name": "python3"
  },
  "language_info": {
   "codemirror_mode": {
    "name": "ipython",
    "version": 3
   },
   "file_extension": ".py",
   "mimetype": "text/x-python",
   "name": "python",
   "nbconvert_exporter": "python",
   "pygments_lexer": "ipython3",
   "version": "3.7.4"
  }
 },
 "nbformat": 4,
 "nbformat_minor": 2
}